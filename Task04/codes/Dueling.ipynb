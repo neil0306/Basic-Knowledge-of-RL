{
 "cells": [
  {
   "cell_type": "code",
   "execution_count": 1,
   "metadata": {},
   "outputs": [],
   "source": [
    "# 网络部分\n",
    "\n",
    "import torch\n",
    "import torch.nn as nn\n",
    "class DuelingQNetwork(nn.Module):\n",
    "    def __init__(self, state_dim, action_dim,hidden_dim=128):\n",
    "        super(DuelingQNetwork, self).__init__()\n",
    "        # 隐藏层 (共享权重)\n",
    "        self.hidden_layer = nn.Sequential(\n",
    "            nn.Linear(state_dim, hidden_dim),\n",
    "            nn.ReLU()\n",
    "        )\n",
    "        #  优势层 (分支)\n",
    "        self.advantage_layer = nn.Sequential(\n",
    "            nn.Linear(hidden_dim, hidden_dim),\n",
    "            nn.ReLU(),\n",
    "            nn.Linear(hidden_dim, action_dim)\n",
    "        )\n",
    "        # 价值层 (分支)\n",
    "        self.value_layer = nn.Sequential(\n",
    "            nn.Linear(hidden_dim, hidden_dim),\n",
    "            nn.ReLU(),\n",
    "            nn.Linear(hidden_dim, 1)\n",
    "        )\n",
    "        \n",
    "    def forward(self, state): \n",
    "        x = self.hidden_layer(state)         # 共享权重\n",
    "        advantage = self.advantage_layer(x)  # 分支1\n",
    "        value     = self.value_layer(x)      # 分支2\n",
    "        return value + advantage - advantage.mean() # Q(s,a) = V(s) + A(s,a) - mean(A(s,a))\n"
   ]
  },
  {
   "cell_type": "markdown",
   "metadata": {},
   "source": [
    "训练网络的代码都是按模板写的, 直接参考书中源码吧.\n"
   ]
  }
 ],
 "metadata": {
  "kernelspec": {
   "display_name": "Python 3",
   "language": "python",
   "name": "python3"
  },
  "language_info": {
   "codemirror_mode": {
    "name": "ipython",
    "version": 3
   },
   "file_extension": ".py",
   "mimetype": "text/x-python",
   "name": "python",
   "nbconvert_exporter": "python",
   "pygments_lexer": "ipython3",
   "version": "3.7.16"
  }
 },
 "nbformat": 4,
 "nbformat_minor": 2
}
