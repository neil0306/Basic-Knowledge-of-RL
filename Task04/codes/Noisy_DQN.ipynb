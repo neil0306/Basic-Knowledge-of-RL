{
 "cells": [
  {
   "cell_type": "code",
   "execution_count": 1,
   "metadata": {},
   "outputs": [],
   "source": [
    "import torch\n",
    "import torch.nn as nn\n",
    "import torch.nn.functional as F\n",
    "\n",
    "\n",
    "class NoisyLinear(nn.Module):\n",
    "    '''\n",
    "    在Noisy DQN中用NoisyLinear层替换普通的nn.Linear层\n",
    "    '''\n",
    "    def __init__(self, input_dim, output_dim, std_init=0.4):\n",
    "        super(NoisyLinear, self).__init__()\n",
    "        self.input_dim  = input_dim\n",
    "        self.output_dim = output_dim\n",
    "        self.std_init  = std_init\n",
    "        self.weight_mu    = nn.Parameter(torch.empty(output_dim, input_dim))\n",
    "        self.weight_sigma = nn.Parameter(torch.empty(output_dim, input_dim))\n",
    "    \n",
    "        # 将一个 tensor 注册成 buffer，使得这个 tensor 不被当做模型参数进行优化。\n",
    "        self.register_buffer('weight_epsilon', torch.empty(output_dim, input_dim)) \n",
    "        \n",
    "        self.bias_mu    = nn.Parameter(torch.empty(output_dim))\n",
    "        self.bias_sigma = nn.Parameter(torch.empty(output_dim))\n",
    "        self.register_buffer('bias_epsilon', torch.empty(output_dim))   # bias 也注册成 buffer\n",
    "        \n",
    "        self.reset_parameters() # 初始化参数\n",
    "        self.reset_noise()  # 重置噪声\n",
    "    \n",
    "    def forward(self, x):\n",
    "        if self.training: \n",
    "            weight = self.weight_mu + self.weight_sigma * self.weight_epsilon\n",
    "            bias   = self.bias_mu + self.bias_sigma * self.bias_epsilon\n",
    "        else:\n",
    "            weight = self.weight_mu\n",
    "            bias   = self.bias_mu\n",
    "        return F.linear(x, weight, bias)\n",
    "    \n",
    "    def reset_parameters(self):\n",
    "        mu_range = 1 / self.input_dim ** 0.5\n",
    "        self.weight_mu.data.uniform_(-mu_range, mu_range)\n",
    "        self.weight_sigma.data.fill_(self.std_init / self.input_dim ** 0.5)\n",
    "        self.bias_mu.data.uniform_(-mu_range, mu_range)\n",
    "        self.bias_sigma.data.fill_(self.std_init / self.output_dim ** 0.5)\n",
    "    \n",
    "    def reset_noise(self):\n",
    "        epsilon_in  = self._scale_noise(self.input_dim)\n",
    "        epsilon_out = self._scale_noise(self.output_dim)\n",
    "        self.weight_epsilon.copy_(epsilon_out.ger(epsilon_in))\n",
    "        self.bias_epsilon.copy_(self._scale_noise(self.output_dim))\n",
    "    \n",
    "    def _scale_noise(self, size):\n",
    "        x = torch.randn(size)\n",
    "        x = x.sign().mul(x.abs().sqrt())\n",
    "        return x\n"
   ]
  },
  {
   "cell_type": "code",
   "execution_count": 2,
   "metadata": {},
   "outputs": [],
   "source": [
    "class NoisyQNetwork(nn.Module):\n",
    "    def __init__(self, state_dim, action_dim, hidden_dim=128):\n",
    "        super(NoisyQNetwork, self).__init__()\n",
    "        self.fc1 =  nn.Linear(state_dim, hidden_dim)\n",
    "        self.noisy_fc2 = NoisyLinear(hidden_dim, hidden_dim)    # 替换为前面定义的 NoisyLinear 层\n",
    "        self.noisy_fc3 = NoisyLinear(hidden_dim, action_dim)\n",
    "        \n",
    "    def forward(self, x):\n",
    "        x = F.relu(self.fc1(x))\n",
    "        x = F.relu(self.noisy_fc2(x))\n",
    "        x = self.noisy_fc3(x)\n",
    "        return x\n",
    "\n",
    "    def reset_noise(self):           # 注意在训练过程中，我们需要在每次更新后重置噪声，这样有助于提高训练的稳定性\n",
    "        self.noisy_fc2.reset_noise()\n",
    "        self.noisy_fc3.reset_noise()\n",
    "\n"
   ]
  },
  {
   "cell_type": "code",
   "execution_count": 3,
   "metadata": {},
   "outputs": [
    {
     "name": "stdout",
     "output_type": "stream",
     "text": [
      "Requirement already satisfied: torchrl in /Users/nullptr/anaconda3/envs/joyrl/lib/python3.7/site-packages (0.1.1)\n",
      "Requirement already satisfied: torch in /Users/nullptr/anaconda3/envs/joyrl/lib/python3.7/site-packages (from torchrl) (1.13.1)\n",
      "Requirement already satisfied: cloudpickle in /Users/nullptr/anaconda3/envs/joyrl/lib/python3.7/site-packages (from torchrl) (2.2.1)\n",
      "Requirement already satisfied: tensordict>=0.1.1 in /Users/nullptr/anaconda3/envs/joyrl/lib/python3.7/site-packages (from torchrl) (0.1.2)\n",
      "Requirement already satisfied: packaging in /Users/nullptr/anaconda3/envs/joyrl/lib/python3.7/site-packages (from torchrl) (24.0)\n",
      "Requirement already satisfied: numpy in /Users/nullptr/anaconda3/envs/joyrl/lib/python3.7/site-packages (from torchrl) (1.21.6)\n",
      "Requirement already satisfied: typing-extensions in /Users/nullptr/anaconda3/envs/joyrl/lib/python3.7/site-packages (from torch->torchrl) (4.7.1)\n",
      "Note: you may need to restart the kernel to use updated packages.\n"
     ]
    }
   ],
   "source": [
    "# 除了上面自定手写一个NoisyLinear层外，PyTorch还提供了一个torch.nn.Linear层的子类，即torch.nn.modules.linear.NoisyLinear。\n",
    "%pip install torchrl"
   ]
  },
  {
   "cell_type": "code",
   "execution_count": null,
   "metadata": {},
   "outputs": [],
   "source": [
    "import torchrl\n",
    "\n",
    "class NoisyQNetwork(nn.Module):\n",
    "    def __init__(self, state_dim, action_dim, hidden_dim=128):\n",
    "        super(NoisyQNetwork, self).__init__()\n",
    "        self.fc1 =  nn.Linear(state_dim, hidden_dim)\n",
    "        self.noisy_fc2 = torchrl.NoisyLinear(hidden_dim, hidden_dim,std_init=0.1)   # 使用 torchrl 中的 NoisyLinear\n",
    "        self.noisy_fc3 = torchrl.NoisyLinear(hidden_dim, action_dim,std_init=0.1)\n",
    "        \n",
    "    def forward(self, x):\n",
    "        x = F.relu(self.fc1(x))\n",
    "        x = F.relu(self.noisy_fc2(x))\n",
    "        x = self.noisy_fc3(x)\n",
    "        return x\n",
    "\n",
    "    def reset_noise(self):\n",
    "        self.noisy_fc2.reset_noise()\n",
    "        self.noisy_fc3.reset_noise()\n",
    "\n"
   ]
  },
  {
   "cell_type": "markdown",
   "metadata": {},
   "source": [
    "训练网络的代码都是按模板写的, 直接参考书中源码吧."
   ]
  }
 ],
 "metadata": {
  "kernelspec": {
   "display_name": "joyrl",
   "language": "python",
   "name": "python3"
  },
  "language_info": {
   "codemirror_mode": {
    "name": "ipython",
    "version": 3
   },
   "file_extension": ".py",
   "mimetype": "text/x-python",
   "name": "python",
   "nbconvert_exporter": "python",
   "pygments_lexer": "ipython3",
   "version": "3.7.16"
  }
 },
 "nbformat": 4,
 "nbformat_minor": 2
}
